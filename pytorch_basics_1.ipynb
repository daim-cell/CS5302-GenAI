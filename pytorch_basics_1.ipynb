{
  "nbformat": 4,
  "nbformat_minor": 0,
  "metadata": {
    "colab": {
      "provenance": [],
      "authorship_tag": "ABX9TyOoZ9+BMy4DUCVZIg/Y6FB2",
      "include_colab_link": true
    },
    "kernelspec": {
      "name": "python3",
      "display_name": "Python 3"
    },
    "language_info": {
      "name": "python"
    }
  },
  "cells": [
    {
      "cell_type": "markdown",
      "metadata": {
        "id": "view-in-github",
        "colab_type": "text"
      },
      "source": [
        "<a href=\"https://colab.research.google.com/github/daim-cell/CS5302-GenAI/blob/main/pytorch_basics_1.ipynb\" target=\"_parent\"><img src=\"https://colab.research.google.com/assets/colab-badge.svg\" alt=\"Open In Colab\"/></a>"
      ]
    },
    {
      "cell_type": "code",
      "execution_count": 1,
      "metadata": {
        "id": "XHF5N-C80o-g"
      },
      "outputs": [],
      "source": [
        "import torch"
      ]
    },
    {
      "cell_type": "code",
      "source": [
        "t1 = torch.tensor(4.)\n",
        "t1"
      ],
      "metadata": {
        "colab": {
          "base_uri": "https://localhost:8080/"
        },
        "id": "GKl-_WR17M3U",
        "outputId": "684c59ca-897e-4df4-c966-0bc3fb68380b"
      },
      "execution_count": 3,
      "outputs": [
        {
          "output_type": "execute_result",
          "data": {
            "text/plain": [
              "tensor(4.)"
            ]
          },
          "metadata": {},
          "execution_count": 3
        }
      ]
    },
    {
      "cell_type": "code",
      "source": [
        "# the shape outputs (...,x,y). y remains constant is usually the number in a single tensor\n",
        "t2 = torch.tensor([[[1., 2, 3], [4, 5, 6], [1, 2, 3]],[[1., 2, 3], [4, 5, 6], [1, 2, 3]]])\n",
        "t2.shape"
      ],
      "metadata": {
        "colab": {
          "base_uri": "https://localhost:8080/"
        },
        "id": "b_-dxlQl7_z8",
        "outputId": "65ca88d7-c9ba-4999-9844-a94873a79520"
      },
      "execution_count": 20,
      "outputs": [
        {
          "output_type": "execute_result",
          "data": {
            "text/plain": [
              "torch.Size([2, 3, 3])"
            ]
          },
          "metadata": {},
          "execution_count": 20
        }
      ]
    },
    {
      "cell_type": "code",
      "source": [
        "# prompt: create 3 tensors with requires_grad set to true and show one back propogation\n",
        "\n",
        "# Create three tensors with requires_grad set to True\n",
        "t3 = torch.tensor([5.])\n",
        "t4 = torch.tensor([4.], requires_grad=True)\n",
        "t5 = torch.tensor([7.], requires_grad=True)\n",
        "\n",
        "# Perform an operation on the tensors\n",
        "t6 = t3 * t4 + t5\n",
        "print(t6)\n",
        "# Backpropagate through the computation graph\n",
        "t6.backward()\n",
        "\n",
        "# Print the gradients of the input tensors\n",
        "\n",
        "print(t4.grad)\n",
        "print(t5.grad)\n"
      ],
      "metadata": {
        "colab": {
          "base_uri": "https://localhost:8080/"
        },
        "id": "px8EO2ZOAfPP",
        "outputId": "a203951d-d6d4-447f-fe93-95e0e1012b14"
      },
      "execution_count": 26,
      "outputs": [
        {
          "output_type": "stream",
          "name": "stdout",
          "text": [
            "tensor([27.], grad_fn=<AddBackward0>)\n",
            "tensor([5.])\n",
            "tensor([1.])\n"
          ]
        }
      ]
    },
    {
      "cell_type": "code",
      "source": [
        "t6_nump = t6.detach().numpy()\n",
        "print(t6_nump)\n",
        "\n",
        "torch.from_numpy(t6_nump)"
      ],
      "metadata": {
        "colab": {
          "base_uri": "https://localhost:8080/"
        },
        "id": "xBwn3wduBr80",
        "outputId": "fb7ccb0a-1c84-4dc2-9295-28e48f56479e"
      },
      "execution_count": 31,
      "outputs": [
        {
          "output_type": "stream",
          "name": "stdout",
          "text": [
            "[27.]\n"
          ]
        },
        {
          "output_type": "execute_result",
          "data": {
            "text/plain": [
              "tensor([27.])"
            ]
          },
          "metadata": {},
          "execution_count": 31
        }
      ]
    },
    {
      "cell_type": "code",
      "source": [
        "x = torch.tensor([[1., -1.], [1., 1.]], requires_grad=True)\n",
        "print(x.pow(2).sum())\n",
        "out = x.pow(2).sum()\n",
        "out.backward()\n",
        "x.grad"
      ],
      "metadata": {
        "colab": {
          "base_uri": "https://localhost:8080/"
        },
        "id": "VK72PNj_D0l4",
        "outputId": "e08464a2-4b1a-4090-98b8-ff449f345865"
      },
      "execution_count": 33,
      "outputs": [
        {
          "output_type": "stream",
          "name": "stdout",
          "text": [
            "tensor(4., grad_fn=<SumBackward0>)\n"
          ]
        },
        {
          "output_type": "execute_result",
          "data": {
            "text/plain": [
              "tensor([[ 2., -2.],\n",
              "        [ 2.,  2.]])"
            ]
          },
          "metadata": {},
          "execution_count": 33
        }
      ]
    },
    {
      "cell_type": "markdown",
      "source": [
        "# Logistic Regression\n"
      ],
      "metadata": {
        "id": "bwo_7h81LvmH"
      }
    },
    {
      "cell_type": "code",
      "source": [
        "\n",
        "import numpy as np\n",
        "\n",
        "# using loadtxt()\n",
        "data = np.loadtxt(\"/content/sample_data/california_housing_train.csv\",\n",
        "                 delimiter=\",\", dtype=str)\n",
        "\n",
        "\n",
        "print(data.shape)\n",
        "col = data[0]\n",
        "print(col)\n",
        "train_data = data[1:,:8]\n",
        "train_data = train_data.astype(np.float32)\n",
        "train_target = data[1:,8]\n",
        "train_target = train_target.astype(np.float32)\n",
        "print(train_data.shape, train_target.shape)\n"
      ],
      "metadata": {
        "colab": {
          "base_uri": "https://localhost:8080/"
        },
        "id": "5ab3FtAcLzCI",
        "outputId": "02b41ec3-a88e-4958-b1c8-0c398b04331d"
      },
      "execution_count": 91,
      "outputs": [
        {
          "output_type": "stream",
          "name": "stdout",
          "text": [
            "(17001, 9)\n",
            "['\"longitude\"' '\"latitude\"' '\"housing_median_age\"' '\"total_rooms\"'\n",
            " '\"total_bedrooms\"' '\"population\"' '\"households\"' '\"median_income\"'\n",
            " '\"median_house_value\"']\n",
            "(17000, 8) (17000,)\n"
          ]
        }
      ]
    },
    {
      "cell_type": "code",
      "source": [
        "# The process of gradient descent:\n",
        "# - Generate predictions\n",
        "# - Calculate loss\n",
        "# - Compute gradients w.r.t to weights and biases\n",
        "# - Adjust weights and biases using gradients proportianal to learning rate\n",
        "# - Reset gradients\n",
        "\n",
        "import torch.nn as nn\n",
        "import torch.nn.functional as F\n",
        "from torch.utils.data import TensorDataset, DataLoader\n",
        "train = torch.from_numpy(train_data)\n",
        "target = torch.from_numpy(train_target)"
      ],
      "metadata": {
        "id": "V_t-NEBzM8Tl"
      },
      "execution_count": 115,
      "outputs": []
    },
    {
      "cell_type": "code",
      "source": [
        "inputs_mean = torch.mean(train, axis=0)\n",
        "targets_mean = torch.mean(target, axis=0)\n",
        "train = train / inputs_mean  # Noramalize\n",
        "target = target / targets_mean"
      ],
      "metadata": {
        "id": "eE4lS01pJBo2"
      },
      "execution_count": 113,
      "outputs": []
    },
    {
      "cell_type": "code",
      "source": [
        "train_ds = TensorDataset(train, target)\n",
        "print(train_ds[0:2])\n",
        "batch = 64\n",
        "\n",
        "train_loader = DataLoader(train_ds, batch, shuffle = True)"
      ],
      "metadata": {
        "id": "Fb9ONR4fzByC"
      },
      "execution_count": null,
      "outputs": []
    },
    {
      "cell_type": "code",
      "source": [
        "model = nn.Linear(8, 1)\n",
        "print(model.weight)\n",
        "print(model.bias)\n",
        "loss_fn = nn.MSELoss()\n",
        "optimizer = torch.optim.SGD(model.parameters(), lr=1e-3)\n"
      ],
      "metadata": {
        "colab": {
          "base_uri": "https://localhost:8080/"
        },
        "id": "CHkkHlRT-ENR",
        "outputId": "89d8ce32-d5b6-49d0-86e9-a7bbbecee705"
      },
      "execution_count": 123,
      "outputs": [
        {
          "output_type": "stream",
          "name": "stdout",
          "text": [
            "Parameter containing:\n",
            "tensor([[-0.2139,  0.2435, -0.3249,  0.0629,  0.1824,  0.2738,  0.3247, -0.2508]],\n",
            "       requires_grad=True)\n",
            "Parameter containing:\n",
            "tensor([0.2925], requires_grad=True)\n"
          ]
        }
      ]
    },
    {
      "cell_type": "code",
      "source": [
        "num_epochs = 10\n",
        "total_step = len(train_loader)\n",
        "for epoch in range(num_epochs):\n",
        "    for i, (inputs, labels) in enumerate(train_loader):\n",
        "        # Reshape images to (batch_size, input_size)\n",
        "        # Forward pass\n",
        "\n",
        "        outputs = model(inputs)\n",
        "        # print(outputs)\n",
        "        loss = loss_fn(outputs, labels)\n",
        "\n",
        "        # Backward and optimize\n",
        "        loss.backward()\n",
        "        optimizer.step()\n",
        "\n",
        "        # Reset gradients\n",
        "        optimizer.zero_grad()\n",
        "\n",
        "\n",
        "    if (epoch+1) % 10 == 0:\n",
        "            print ('Epoch [{}/{}], Step [{}/{}], Loss: {:.4f}'\n",
        "                   .format(epoch+1, num_epochs, i+1, total_step, loss.item()))\n"
      ],
      "metadata": {
        "colab": {
          "base_uri": "https://localhost:8080/"
        },
        "id": "XMpQ4NkE-ouR",
        "outputId": "001ec16b-65ce-47f5-8e2e-93a9f0f52f94"
      },
      "execution_count": 125,
      "outputs": [
        {
          "output_type": "stream",
          "name": "stdout",
          "text": [
            "Epoch [10/10], Step [266/266], Loss: nan\n"
          ]
        }
      ]
    }
  ]
}